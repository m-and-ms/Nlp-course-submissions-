{
  "nbformat": 4,
  "nbformat_minor": 0,
  "metadata": {
    "colab": {
      "name": "Lab9-NER.ipynb",
      "version": "0.3.2",
      "provenance": [],
      "collapsed_sections": []
    },
    "kernelspec": {
      "display_name": "Python 3",
      "language": "python",
      "name": "python3"
    }
  },
  "cells": [
    {
      "metadata": {
        "id": "H6NWeqevB57n",
        "colab_type": "code",
        "colab": {}
      },
      "cell_type": "code",
      "source": [
        "### Information Reterival\n",
        "## Steps: tokenization, POS tagging, Entity Detection, Relation Detection"
      ],
      "execution_count": 0,
      "outputs": []
    },
    {
      "metadata": {
        "id": "gnKk_0mQB57q",
        "colab_type": "code",
        "colab": {}
      },
      "cell_type": "code",
      "source": [
        "import nltk\n",
        "import re\n",
        "from nltk.tokenize import sent_tokenize"
      ],
      "execution_count": 0,
      "outputs": []
    },
    {
      "metadata": {
        "id": "0Ny56f7aB57t",
        "colab_type": "code",
        "outputId": "6968d38f-ebc1-490d-ed16-07922d2d741c",
        "colab": {
          "base_uri": "https://localhost:8080/",
          "height": 156
        }
      },
      "cell_type": "code",
      "source": [
        "nltk.download('maxent_ne_chunker')\n",
        "nltk.download('words')\n",
        "nltk.download('ieer')"
      ],
      "execution_count": 0,
      "outputs": [
        {
          "output_type": "stream",
          "text": [
            "[nltk_data] Downloading package maxent_ne_chunker to\n",
            "[nltk_data]     /root/nltk_data...\n",
            "[nltk_data]   Unzipping chunkers/maxent_ne_chunker.zip.\n",
            "[nltk_data] Downloading package words to /root/nltk_data...\n",
            "[nltk_data]   Unzipping corpora/words.zip.\n",
            "[nltk_data] Downloading package ieer to /root/nltk_data...\n",
            "[nltk_data]   Unzipping corpora/ieer.zip.\n"
          ],
          "name": "stdout"
        },
        {
          "output_type": "execute_result",
          "data": {
            "text/plain": [
              "True"
            ]
          },
          "metadata": {
            "tags": []
          },
          "execution_count": 2
        }
      ]
    },
    {
      "metadata": {
        "scrolled": true,
        "id": "Kkg3tRWlB57v",
        "colab_type": "code",
        "outputId": "5be795b1-e638-439a-ac21-90ef2b1d322a",
        "colab": {
          "base_uri": "https://localhost:8080/",
          "height": 401
        }
      },
      "cell_type": "code",
      "source": [
        "# for entity detection we use ne_chunking\n",
        "nltk.download('treebank')\n",
        "sent = nltk.corpus.treebank.tagged_sents()[0]\n",
        "print(sent)\n",
        "print(nltk.ne_chunk(sent, binary=True))"
      ],
      "execution_count": 0,
      "outputs": [
        {
          "output_type": "stream",
          "text": [
            "[nltk_data] Downloading package treebank to /root/nltk_data...\n",
            "[nltk_data]   Unzipping corpora/treebank.zip.\n",
            "[('Pierre', 'NNP'), ('Vinken', 'NNP'), (',', ','), ('61', 'CD'), ('years', 'NNS'), ('old', 'JJ'), (',', ','), ('will', 'MD'), ('join', 'VB'), ('the', 'DT'), ('board', 'NN'), ('as', 'IN'), ('a', 'DT'), ('nonexecutive', 'JJ'), ('director', 'NN'), ('Nov.', 'NNP'), ('29', 'CD'), ('.', '.')]\n",
            "(S\n",
            "  (NE Pierre/NNP Vinken/NNP)\n",
            "  ,/,\n",
            "  61/CD\n",
            "  years/NNS\n",
            "  old/JJ\n",
            "  ,/,\n",
            "  will/MD\n",
            "  join/VB\n",
            "  the/DT\n",
            "  board/NN\n",
            "  as/IN\n",
            "  a/DT\n",
            "  nonexecutive/JJ\n",
            "  director/NN\n",
            "  Nov./NNP\n",
            "  29/CD\n",
            "  ./.)\n"
          ],
          "name": "stdout"
        }
      ]
    },
    {
      "metadata": {
        "id": "oBcJMperB57x",
        "colab_type": "code",
        "outputId": "9947566d-4e4a-4ab5-f9ac-8f39a8f0270f",
        "colab": {
          "base_uri": "https://localhost:8080/",
          "height": 451
        }
      },
      "cell_type": "code",
      "source": [
        "print(nltk.ne_chunk(sent))\n",
        "nltk.download('punkt')\n",
        "nltk.download('averaged_perceptron_tagger')"
      ],
      "execution_count": 0,
      "outputs": [
        {
          "output_type": "stream",
          "text": [
            "(S\n",
            "  (PERSON Pierre/NNP)\n",
            "  (ORGANIZATION Vinken/NNP)\n",
            "  ,/,\n",
            "  61/CD\n",
            "  years/NNS\n",
            "  old/JJ\n",
            "  ,/,\n",
            "  will/MD\n",
            "  join/VB\n",
            "  the/DT\n",
            "  board/NN\n",
            "  as/IN\n",
            "  a/DT\n",
            "  nonexecutive/JJ\n",
            "  director/NN\n",
            "  Nov./NNP\n",
            "  29/CD\n",
            "  ./.)\n",
            "[nltk_data] Downloading package punkt to /root/nltk_data...\n",
            "[nltk_data]   Package punkt is already up-to-date!\n",
            "[nltk_data] Downloading package averaged_perceptron_tagger to\n",
            "[nltk_data]     /root/nltk_data...\n",
            "[nltk_data]   Unzipping taggers/averaged_perceptron_tagger.zip.\n"
          ],
          "name": "stdout"
        },
        {
          "output_type": "execute_result",
          "data": {
            "text/plain": [
              "True"
            ]
          },
          "metadata": {
            "tags": []
          },
          "execution_count": 12
        }
      ]
    },
    {
      "metadata": {
        "id": "hmPQq1pRB57z",
        "colab_type": "code",
        "colab": {}
      },
      "cell_type": "code",
      "source": [
        "ex = 'European authorities fined Google a record $5.1 billion on Wednesday for abusing its power in the mobile phone market and ordered the company to alter its practices'"
      ],
      "execution_count": 0,
      "outputs": []
    },
    {
      "metadata": {
        "id": "NTtABXVHB571",
        "colab_type": "code",
        "outputId": "1659c7ad-78b6-434f-dea5-54d21882b4ed",
        "colab": {
          "base_uri": "https://localhost:8080/",
          "height": 520
        }
      },
      "cell_type": "code",
      "source": [
        "ne_tree = nltk.ne_chunk(nltk.pos_tag(nltk.word_tokenize(ex)))\n",
        "print(ne_tree)\n"
      ],
      "execution_count": 0,
      "outputs": [
        {
          "output_type": "stream",
          "text": [
            "(S\n",
            "  (GPE European/JJ)\n",
            "  authorities/NNS\n",
            "  fined/VBD\n",
            "  (PERSON Google/NNP)\n",
            "  a/DT\n",
            "  record/NN\n",
            "  $/$\n",
            "  5.1/CD\n",
            "  billion/CD\n",
            "  on/IN\n",
            "  Wednesday/NNP\n",
            "  for/IN\n",
            "  abusing/VBG\n",
            "  its/PRP$\n",
            "  power/NN\n",
            "  in/IN\n",
            "  the/DT\n",
            "  mobile/JJ\n",
            "  phone/NN\n",
            "  market/NN\n",
            "  and/CC\n",
            "  ordered/VBD\n",
            "  the/DT\n",
            "  company/NN\n",
            "  to/TO\n",
            "  alter/VB\n",
            "  its/PRP$\n",
            "  practices/NNS)\n"
          ],
          "name": "stdout"
        }
      ]
    },
    {
      "metadata": {
        "id": "TwABelnbB573",
        "colab_type": "code",
        "outputId": "b7740593-3dc2-4f87-ae80-7d0e016658e2",
        "colab": {
          "base_uri": "https://localhost:8080/",
          "height": 55
        }
      },
      "cell_type": "code",
      "source": [
        "ne_tree.draw"
      ],
      "execution_count": 0,
      "outputs": [
        {
          "output_type": "execute_result",
          "data": {
            "text/plain": [
              "<bound method Tree.draw of Tree('S', [Tree('GPE', [('European', 'JJ')]), ('authorities', 'NNS'), ('fined', 'VBD'), Tree('PERSON', [('Google', 'NNP')]), ('a', 'DT'), ('record', 'NN'), ('$', '$'), ('5.1', 'CD'), ('billion', 'CD'), ('on', 'IN'), ('Wednesday', 'NNP'), ('for', 'IN'), ('abusing', 'VBG'), ('its', 'PRP$'), ('power', 'NN'), ('in', 'IN'), ('the', 'DT'), ('mobile', 'JJ'), ('phone', 'NN'), ('market', 'NN'), ('and', 'CC'), ('ordered', 'VBD'), ('the', 'DT'), ('company', 'NN'), ('to', 'TO'), ('alter', 'VB'), ('its', 'PRP$'), ('practices', 'NNS')])>"
            ]
          },
          "metadata": {
            "tags": []
          },
          "execution_count": 16
        }
      ]
    },
    {
      "metadata": {
        "id": "XrE_GwuAB577",
        "colab_type": "code",
        "colab": {}
      },
      "cell_type": "code",
      "source": [
        "### Information extraction"
      ],
      "execution_count": 0,
      "outputs": []
    },
    {
      "metadata": {
        "id": "ZF5MBM6uB57_",
        "colab_type": "code",
        "outputId": "3fc9537f-dbc2-41ce-b5ca-4128e8e9f94a",
        "colab": {
          "base_uri": "https://localhost:8080/",
          "height": 243
        }
      },
      "cell_type": "code",
      "source": [
        "IN = re.compile(r'.*\\bin\\b(?!\\b.+ing)')\n",
        "for doc in nltk.corpus.ieer.parsed_docs('NYT_19980315'):\n",
        "    for rel in nltk.sem.extract_rels('ORG', 'LOC', doc, corpus='ieer', pattern = IN):\n",
        "        print(nltk.sem.rtuple(rel))"
      ],
      "execution_count": 0,
      "outputs": [
        {
          "output_type": "stream",
          "text": [
            "[ORG: 'WHYY'] 'in' [LOC: 'Philadelphia']\n",
            "[ORG: 'McGlashan &AMP; Sarrail'] 'firm in' [LOC: 'San Mateo']\n",
            "[ORG: 'Freedom Forum'] 'in' [LOC: 'Arlington']\n",
            "[ORG: 'Brookings Institution'] ', the research group in' [LOC: 'Washington']\n",
            "[ORG: 'Idealab'] ', a self-described business incubator based in' [LOC: 'Los Angeles']\n",
            "[ORG: 'Open Text'] ', based in' [LOC: 'Waterloo']\n",
            "[ORG: 'WGBH'] 'in' [LOC: 'Boston']\n",
            "[ORG: 'Bastille Opera'] 'in' [LOC: 'Paris']\n",
            "[ORG: 'Omnicom'] 'in' [LOC: 'New York']\n",
            "[ORG: 'DDB Needham'] 'in' [LOC: 'New York']\n",
            "[ORG: 'Kaplan Thaler Group'] 'in' [LOC: 'New York']\n",
            "[ORG: 'BBDO South'] 'in' [LOC: 'Atlanta']\n",
            "[ORG: 'Georgia-Pacific'] 'in' [LOC: 'Atlanta']\n"
          ],
          "name": "stdout"
        }
      ]
    },
    {
      "metadata": {
        "id": "cg8kQKzkB58F",
        "colab_type": "code",
        "colab": {}
      },
      "cell_type": "code",
      "source": [
        "doc.text.draw()"
      ],
      "execution_count": 0,
      "outputs": []
    },
    {
      "metadata": {
        "id": "m2_AtLPYB58H",
        "colab_type": "code",
        "colab": {}
      },
      "cell_type": "code",
      "source": [
        "from nltk.corpus import wordnet as wn"
      ],
      "execution_count": 0,
      "outputs": []
    },
    {
      "metadata": {
        "id": "TU9-iHQ_B58I",
        "colab_type": "code",
        "outputId": "e6c852eb-0282-493d-b8fb-941f8f079115",
        "colab": {}
      },
      "cell_type": "code",
      "source": [
        "wn.synsets('dog')"
      ],
      "execution_count": 0,
      "outputs": [
        {
          "output_type": "execute_result",
          "data": {
            "text/plain": [
              "[Synset('dog.n.01'),\n",
              " Synset('frump.n.01'),\n",
              " Synset('dog.n.03'),\n",
              " Synset('cad.n.01'),\n",
              " Synset('frank.n.02'),\n",
              " Synset('pawl.n.01'),\n",
              " Synset('andiron.n.01'),\n",
              " Synset('chase.v.01')]"
            ]
          },
          "metadata": {
            "tags": []
          },
          "execution_count": 79
        }
      ]
    },
    {
      "metadata": {
        "id": "cyjZcwXdB58M",
        "colab_type": "code",
        "outputId": "e909a99f-75e1-48d0-cb15-d21321aa8da7",
        "colab": {}
      },
      "cell_type": "code",
      "source": [
        "wn.synsets('dog', pos=wn.VERB)"
      ],
      "execution_count": 0,
      "outputs": [
        {
          "output_type": "execute_result",
          "data": {
            "text/plain": [
              "[Synset('chase.v.01')]"
            ]
          },
          "metadata": {
            "tags": []
          },
          "execution_count": 80
        }
      ]
    },
    {
      "metadata": {
        "id": "ayibKJ1nB58P",
        "colab_type": "code",
        "outputId": "b2a36ffb-facb-4377-8ff0-ac5e1886ce9c",
        "colab": {}
      },
      "cell_type": "code",
      "source": [
        "wn.synset('dog.n.01').definition()"
      ],
      "execution_count": 0,
      "outputs": [
        {
          "output_type": "execute_result",
          "data": {
            "text/plain": [
              "'a member of the genus Canis (probably descended from the common wolf) that has been domesticated by man since prehistoric times; occurs in many breeds'"
            ]
          },
          "metadata": {
            "tags": []
          },
          "execution_count": 81
        }
      ]
    },
    {
      "metadata": {
        "id": "uBIiEyNwB58R",
        "colab_type": "code",
        "outputId": "5cb8a2eb-7524-424f-fbc1-c08e8b753c3f",
        "colab": {}
      },
      "cell_type": "code",
      "source": [
        "wn.synset('dog.n.01').examples()"
      ],
      "execution_count": 0,
      "outputs": [
        {
          "output_type": "stream",
          "text": [
            "['the dog barked all night']\n"
          ],
          "name": "stdout"
        }
      ]
    },
    {
      "metadata": {
        "id": "b4RkzDoHB58V",
        "colab_type": "code",
        "outputId": "2f3291e8-2024-4fa7-88b6-9212d86ccaaa",
        "colab": {}
      },
      "cell_type": "code",
      "source": [
        "wn.synset('dog.n.01').hypernyms()"
      ],
      "execution_count": 0,
      "outputs": [
        {
          "output_type": "execute_result",
          "data": {
            "text/plain": [
              "[Synset('canine.n.02'), Synset('domestic_animal.n.01')]"
            ]
          },
          "metadata": {
            "tags": []
          },
          "execution_count": 88
        }
      ]
    },
    {
      "metadata": {
        "id": "mMmm443_B58Y",
        "colab_type": "code",
        "outputId": "1cb8fd3a-f2fc-4edb-8261-84e5c1c19edf",
        "colab": {}
      },
      "cell_type": "code",
      "source": [
        "wn.synset('dog.n.01').root_hypernyms()"
      ],
      "execution_count": 0,
      "outputs": [
        {
          "output_type": "execute_result",
          "data": {
            "text/plain": [
              "[Synset('entity.n.01')]"
            ]
          },
          "metadata": {
            "tags": []
          },
          "execution_count": 90
        }
      ]
    },
    {
      "metadata": {
        "collapsed": true,
        "id": "jM2yyW7OB58b",
        "colab_type": "code",
        "outputId": "0015aec1-4782-42e8-c4ae-78ceb6578a9f",
        "colab": {}
      },
      "cell_type": "code",
      "source": [
        "wn.synset('dog.n.01').hyponyms()"
      ],
      "execution_count": 0,
      "outputs": [
        {
          "output_type": "execute_result",
          "data": {
            "text/plain": [
              "[Synset('basenji.n.01'),\n",
              " Synset('corgi.n.01'),\n",
              " Synset('cur.n.01'),\n",
              " Synset('dalmatian.n.02'),\n",
              " Synset('great_pyrenees.n.01'),\n",
              " Synset('griffon.n.02'),\n",
              " Synset('hunting_dog.n.01'),\n",
              " Synset('lapdog.n.01'),\n",
              " Synset('leonberg.n.01'),\n",
              " Synset('mexican_hairless.n.01'),\n",
              " Synset('newfoundland.n.01'),\n",
              " Synset('pooch.n.01'),\n",
              " Synset('poodle.n.01'),\n",
              " Synset('pug.n.01'),\n",
              " Synset('puppy.n.01'),\n",
              " Synset('spitz.n.01'),\n",
              " Synset('toy_dog.n.01'),\n",
              " Synset('working_dog.n.01')]"
            ]
          },
          "metadata": {
            "tags": []
          },
          "execution_count": 89
        }
      ]
    },
    {
      "metadata": {
        "id": "GhAYUXKIB58d",
        "colab_type": "code",
        "outputId": "3510ab20-4dc3-4ba8-b0b6-08f76aa033c2",
        "colab": {}
      },
      "cell_type": "code",
      "source": [
        "wn.synset('dog.n.01').lowest_common_hypernyms(wn.synset('cat.n.01'))"
      ],
      "execution_count": 0,
      "outputs": [
        {
          "output_type": "execute_result",
          "data": {
            "text/plain": [
              "[Synset('carnivore.n.01')]"
            ]
          },
          "metadata": {
            "tags": []
          },
          "execution_count": 91
        }
      ]
    },
    {
      "metadata": {
        "id": "Qca2VZq0B58f",
        "colab_type": "code",
        "colab": {}
      },
      "cell_type": "code",
      "source": [
        "lion = wn.synset('lion.n.01')\n",
        "dog = wn.synset('dog.n.01')\n",
        "cat = wn.synset('cat.n.01')"
      ],
      "execution_count": 0,
      "outputs": []
    },
    {
      "metadata": {
        "id": "ltNvk-gYB58i",
        "colab_type": "code",
        "outputId": "fd4e1d39-8638-4a75-faeb-f7ec592ab883",
        "colab": {}
      },
      "cell_type": "code",
      "source": [
        "lion.path_similarity(cat)"
      ],
      "execution_count": 0,
      "outputs": [
        {
          "output_type": "execute_result",
          "data": {
            "text/plain": [
              "0.25"
            ]
          },
          "metadata": {
            "tags": []
          },
          "execution_count": 93
        }
      ]
    },
    {
      "metadata": {
        "id": "JqBQ6mXCB58k",
        "colab_type": "code",
        "outputId": "d218713f-4f6c-4091-9aec-48dffe97d661",
        "colab": {}
      },
      "cell_type": "code",
      "source": [
        "lion.path_similarity(dog)"
      ],
      "execution_count": 0,
      "outputs": [
        {
          "output_type": "execute_result",
          "data": {
            "text/plain": [
              "0.16666666666666666"
            ]
          },
          "metadata": {
            "tags": []
          },
          "execution_count": 94
        }
      ]
    },
    {
      "metadata": {
        "id": "ezjxQTBYB58n",
        "colab_type": "code",
        "colab": {}
      },
      "cell_type": "code",
      "source": [
        "## lch and wup similarities for different relations in the taxonomy tree"
      ],
      "execution_count": 0,
      "outputs": []
    },
    {
      "metadata": {
        "id": "fEZirln8B58p",
        "colab_type": "code",
        "colab": {}
      },
      "cell_type": "code",
      "source": [
        "import spacy\n",
        "nlp = spacy.load('en')"
      ],
      "execution_count": 0,
      "outputs": []
    },
    {
      "metadata": {
        "id": "M4QEI0L-B58r",
        "colab_type": "code",
        "colab": {}
      },
      "cell_type": "code",
      "source": [
        "doc = nlp(ex)"
      ],
      "execution_count": 0,
      "outputs": []
    },
    {
      "metadata": {
        "id": "IvoqUm0SB58u",
        "colab_type": "code",
        "outputId": "812c5aa0-747b-4078-e1ab-a303fb1c51af",
        "colab": {}
      },
      "cell_type": "code",
      "source": [
        "for x in doc.ents:\n",
        "    print(x, x.label_)"
      ],
      "execution_count": 0,
      "outputs": [
        {
          "output_type": "stream",
          "text": [
            "European NORP\n",
            "Google ORG\n",
            "$5.1 billion MONEY\n",
            "Wednesday DATE\n"
          ],
          "name": "stdout"
        }
      ]
    },
    {
      "metadata": {
        "id": "8Ct1SNcWB58x",
        "colab_type": "code",
        "outputId": "c82a4fe2-68a0-4e95-9936-afddc61b9216",
        "colab": {}
      },
      "cell_type": "code",
      "source": [
        "x"
      ],
      "execution_count": 0,
      "outputs": [
        {
          "output_type": "execute_result",
          "data": {
            "text/plain": [
              "practices"
            ]
          },
          "metadata": {
            "tags": []
          },
          "execution_count": 57
        }
      ]
    },
    {
      "metadata": {
        "id": "ROHvlSV2B58z",
        "colab_type": "code",
        "outputId": "d484f58d-c798-413e-9ca5-bd927def2d3d",
        "colab": {}
      },
      "cell_type": "code",
      "source": [
        "x[0].dep_"
      ],
      "execution_count": 0,
      "outputs": [
        {
          "output_type": "execute_result",
          "data": {
            "text/plain": [
              "'aux'"
            ]
          },
          "metadata": {
            "tags": []
          },
          "execution_count": 63
        }
      ]
    },
    {
      "metadata": {
        "id": "dELJT6yDB581",
        "colab_type": "code",
        "colab": {}
      },
      "cell_type": "code",
      "source": [
        "x = list(x.head.lefts)"
      ],
      "execution_count": 0,
      "outputs": []
    },
    {
      "metadata": {
        "id": "hr6nGZwFB583",
        "colab_type": "code",
        "colab": {}
      },
      "cell_type": "code",
      "source": [
        "for x in doc:\n",
        "    print(x, x.ent_iob_, x.ent_type_)"
      ],
      "execution_count": 0,
      "outputs": []
    },
    {
      "metadata": {
        "id": "MCI5c_tTB585",
        "colab_type": "code",
        "outputId": "765a6417-dc8c-4384-884c-8ec523b0c487",
        "colab": {
          "base_uri": "https://localhost:8080/",
          "height": 193
        }
      },
      "cell_type": "code",
      "source": [
        "import spacy\n",
        "\n",
        "\n",
        "sentence = \" Mohamed was born in Cairo. Ahmed was born in Alex.  Ahmed in ZewailCity is in Giza.\"\n",
        "\n",
        "spacy_nlp = spacy.load('en')\n",
        "document = spacy_nlp((sentence))\n",
        "\n",
        "import spacy\n",
        "\n",
        "nlp = spacy.load(\"en_core_web_sm\")\n",
        "\n",
        "\n",
        "persons=[]\n",
        "gpes=[]\n",
        "for element in document.ents:\n",
        "    print(\"\", (element.label_, element))\n",
        "    if element.label_ =='GPE':\n",
        "     gpes.append(element)\n",
        "    if element.label_ =='PERSON':  \n",
        "     persons.append(element)\n",
        "ins =['in']*len(persons)   \n",
        "print (list(zip(persons,ins,gpes)))\n",
        "print([(X, X.ent_iob_, X.ent_type_) for X in document])"
      ],
      "execution_count": 0,
      "outputs": [
        {
          "output_type": "stream",
          "text": [
            " ('PERSON', Mohamed)\n",
            " ('GPE', Cairo)\n",
            " ('PERSON', Ahmed)\n",
            " ('GPE', Alex)\n",
            " ('PERSON', Ahmed)\n",
            " ('ORG', ZewailCity)\n",
            " ('PERSON', Giza)\n",
            "[(Mohamed, 'in', Cairo), (Ahmed, 'in', Alex)]\n",
            "[( , 'O', ''), (Mohamed, 'B', 'PERSON'), (was, 'O', ''), (born, 'O', ''), (in, 'O', ''), (Cairo, 'B', 'GPE'), (., 'O', ''), (Ahmed, 'B', 'PERSON'), (was, 'O', ''), (born, 'O', ''), (in, 'O', ''), (Alex, 'B', 'GPE'), (., 'O', ''), ( , 'O', ''), (Ahmed, 'B', 'PERSON'), (in, 'O', ''), (ZewailCity, 'B', 'ORG'), (is, 'O', ''), (in, 'O', ''), (Giza, 'B', 'PERSON'), (., 'O', '')]\n"
          ],
          "name": "stdout"
        }
      ]
    },
    {
      "metadata": {
        "id": "XJiLwDRIjL9J",
        "colab_type": "code",
        "outputId": "ba942012-d444-4ad2-91e7-cade572fce3f",
        "colab": {
          "base_uri": "https://localhost:8080/",
          "height": 87
        }
      },
      "cell_type": "code",
      "source": [
        "import spacy\n",
        "from spacy import displacy\n",
        "from spacy.matcher import Matcher\n",
        "import nltk\n",
        "nltk.download('punkt')\n",
        "\n",
        "import re\n",
        "from nltk.tokenize import sent_tokenize\n",
        "print(nltk.sent_tokenize(sentence))\n",
        "pattern = [{\"POS\": {\"REGEX\": \"N\"}}]\n",
        "\n",
        "nlp = spacy.load(\"en_core_web_sm\")\n",
        "matcher = Matcher(nlp.vocab)\n",
        "matcher.add(\"PLoc\", pattern)\n",
        "\n",
        "matches = matcher(document)\n",
        "print(matches)\n"
      ],
      "execution_count": 0,
      "outputs": [
        {
          "output_type": "stream",
          "text": [
            "[nltk_data] Downloading package punkt to /root/nltk_data...\n",
            "[nltk_data]   Unzipping tokenizers/punkt.zip.\n",
            "[' Mohamed was born in Cairo.', 'Ahmed was born in Alex.', 'Ahmed in ZewailCity is in Giza.']\n",
            "[]\n"
          ],
          "name": "stdout"
        }
      ]
    },
    {
      "metadata": {
        "id": "_IPb9aqDeu7D",
        "colab_type": "code",
        "outputId": "4fe170bc-5306-47aa-e674-8e27d2c6b61e",
        "colab": {
          "base_uri": "https://localhost:8080/",
          "height": 87
        }
      },
      "cell_type": "code",
      "source": [
        "pe_loc=[]\n",
        "for sent in nltk.sent_tokenize(sentence):\n",
        "  doc=nlp(sent)\n",
        "  childs={}\n",
        "  for token in doc:\n",
        "     #print([(token.dep_,token,child,child.tag_) for child in token.children])\n",
        "\n",
        "     if token.dep_ in ['ROOT','nsubj']:\n",
        "        usefull_c=[child for child in token.children if child.tag_ in ['NNP','IN']]\n",
        "        childs[token.dep_]=usefull_c\n",
        "     elif token.dep_=='prep' :\n",
        "              usefull_c=[child for child in token.children if child.tag_ in ['NNP']]\n",
        "              childs[token.dep_]=usefull_c\n",
        "\n",
        "     else :\n",
        "      pass\n",
        "    \n",
        "  try :  \n",
        "   pe_loc.append(childs['nsubj']+childs['prep']) \n",
        "  except :\n",
        "    pass\n",
        "  pe_loc.append(childs['ROOT']+childs['prep'])\n",
        "  print (childs.keys())\n",
        "    #print(list(token.children))\n",
        "    #print(token.head.pos_)\n",
        "    #print(token.text, token.dep_,\"hi\"+ token.head.text, token.head.pos_,\n",
        "    #print([(token,child,child.tag_) for child in token.children])\n",
        "print(pe_loc)  "
      ],
      "execution_count": 0,
      "outputs": [
        {
          "output_type": "stream",
          "text": [
            "dict_keys(['ROOT', 'prep'])\n",
            "dict_keys(['ROOT', 'prep'])\n",
            "dict_keys(['nsubj', 'prep', 'ROOT'])\n",
            "[[Mohamed, in, Cairo], [Ahmed, in, Alex], [in, Giza], [Ahmed, in, Giza]]\n"
          ],
          "name": "stdout"
        }
      ]
    },
    {
      "metadata": {
        "id": "4LcIWNOChDo_",
        "colab_type": "code",
        "outputId": "eab93ea1-7ed0-445d-8827-1b7ecbb58b90",
        "colab": {
          "base_uri": "https://localhost:8080/",
          "height": 35
        }
      },
      "cell_type": "code",
      "source": [
        "ex = 'Mohamed was born in Cairo. Ahmed was born in Alex. Ahmed in ZewailCity which is in Giza. '\n",
        "ne_tree = nltk.ne_chunk(nltk.pos_tag(nltk.word_tokenize(ex)))\n",
        "IN = re.compile(r'.*\\bin\\b(?!\\b.+ing)')\n",
        "doc = nltk.corpus.reader.ieer.IEERDocument(text = ne_tree,  headline='my text')\n",
        "for rel in nltk.sem.extract_rels('PERSON','ORGANIZATION', doc, corpus = 'ieer', pattern = IN):\n",
        "    print(nltk.sem.rtuple(rel))\n"
      ],
      "execution_count": 0,
      "outputs": [
        {
          "output_type": "stream",
          "text": [
            "[PER: 'Ahmed/NNP'] 'in/IN' [ORG: 'ZewailCity/NNP']\n"
          ],
          "name": "stdout"
        }
      ]
    }
  ]
}